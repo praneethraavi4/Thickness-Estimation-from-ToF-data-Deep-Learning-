{
  "nbformat": 4,
  "nbformat_minor": 0,
  "metadata": {
    "colab": {
      "provenance": [],
      "gpuType": "T4"
    },
    "kernelspec": {
      "name": "python3",
      "display_name": "Python 3"
    },
    "language_info": {
      "name": "python"
    },
    "accelerator": "GPU"
  },
  "cells": [
    {
      "cell_type": "code",
      "source": [
        "import numpy as np\n",
        "import matplotlib.pyplot as plt\n",
        "import pandas as pd\n",
        "import os\n",
        "import tensorflow as tf\n",
        "import seaborn as sns\n"
      ],
      "metadata": {
        "id": "6ZgVy2vfE4Nw"
      },
      "execution_count": null,
      "outputs": []
    },
    {
      "cell_type": "code",
      "source": [
        "from google.colab import drive\n",
        "drive.mount('/content/drive')"
      ],
      "metadata": {
        "id": "-BTZwEXQE4Qr"
      },
      "execution_count": null,
      "outputs": []
    },
    {
      "cell_type": "code",
      "source": [
        "data = pd.read_excel('/content/drive/MyDrive/data for raml/Euler_type/raml_train_fea.xlsx')\n",
        "data"
      ],
      "metadata": {
        "id": "RMMwYR9TE4WI"
      },
      "execution_count": null,
      "outputs": []
    },
    {
      "cell_type": "code",
      "source": [
        "X_train = data.iloc[:, :-1]\n",
        "X_train = X_train.astype(float)\n",
        "X_train"
      ],
      "metadata": {
        "id": "r4yLehOYE4ZO"
      },
      "execution_count": null,
      "outputs": []
    },
    {
      "cell_type": "code",
      "source": [
        "y_train = pd.read_excel('/content/drive/MyDrive/data for raml/Euler_type/raml_train_label.xlsx')\n",
        "y_train"
      ],
      "metadata": {
        "id": "jDw3gewuE4cH"
      },
      "execution_count": null,
      "outputs": []
    },
    {
      "cell_type": "code",
      "source": [
        "import numpy as np\n",
        "from sklearn.model_selection import train_test_split\n",
        "\n",
        "X_train, X_val, y_train, y_val = train_test_split(X_train, y_train, test_size=0.2, random_state=42)\n",
        "\n",
        "# Print the shapes of the datasets\n",
        "print(\"X_train shape:\", X_train.shape)\n",
        "print(\"y_train shape:\", y_train.shape)\n",
        "print(\"X_val shape:\", X_val.shape)\n",
        "print(\"y_val shape:\", y_val.shape)\n"
      ],
      "metadata": {
        "id": "j2vqmcMxE4iI"
      },
      "execution_count": null,
      "outputs": []
    },
    {
      "cell_type": "code",
      "source": [
        "data1 = pd.read_excel('/content/drive/MyDrive/data for raml/Euler_type/raml_val_fea.xlsx')\n",
        "data1"
      ],
      "metadata": {
        "id": "OciJZ1AME4lf"
      },
      "execution_count": null,
      "outputs": []
    },
    {
      "cell_type": "code",
      "source": [
        "X_test = data1.iloc[:, :-1]\n",
        "X_test = X_test.astype(float)\n",
        "\n",
        "X_test"
      ],
      "metadata": {
        "id": "YoE6s0ISFGbn"
      },
      "execution_count": null,
      "outputs": []
    },
    {
      "cell_type": "code",
      "source": [
        "y_test = pd.read_excel('/content/drive/MyDrive/data for raml/Euler_type/raml_val_label.xlsx')\n",
        "y_test"
      ],
      "metadata": {
        "id": "nrFGtn_wFGfV"
      },
      "execution_count": null,
      "outputs": []
    },
    {
      "cell_type": "code",
      "source": [
        "import numpy as np\n",
        "from tensorflow.keras.models import Model\n",
        "from tensorflow.keras.layers import Input, Conv1D, MaxPooling1D, Concatenate, Flatten, Dense\n",
        "\n",
        "def inception_net_classification(input_shape):       ## Inception-like model\n",
        "\n",
        "    inputs = Input(input_shape)\n",
        "\n",
        "    # Convolutional block 1\n",
        "    conv1_1 = Conv1D(8, 1, activation='relu', padding='same')(inputs)\n",
        "    conv1_2 = Conv1D(16, 1, activation='relu', padding='same')(inputs)\n",
        "    conv1_3 = Conv1D(32, 1, activation='relu', padding='same')(inputs)\n",
        "    concat1 = Concatenate(axis=-1)([conv1_1, conv1_2, conv1_3])\n",
        "    #pool1 = MaxPooling1D(pool_size=2)(concat1)\n",
        "\n",
        "    # Convolutional block 2\n",
        "    conv2_1 = Conv1D(64, 1, activation='relu', padding='same')(concat1)\n",
        "    conv2_2 = Conv1D(128, 3, activation='relu', padding='same')(conv2_1)\n",
        "    conv2_3 = Conv1D(256, 5, activation='relu', padding='same')(conv2_2)\n",
        "    concat2 = Concatenate(axis=-1)([conv2_1, conv2_2, conv2_3])\n",
        "    #pool2 = MaxPooling1D(pool_size=2)(concat2)\n",
        "\n",
        "    # Convolutional block 3\n",
        "    conv3_1 = Conv1D(64, 1, activation='relu', padding='same')(concat2)\n",
        "    conv3_2 = Conv1D(128, 1, activation='relu', padding='same')(conv3_1)\n",
        "    conv3_3 = Conv1D(256, 1, activation='relu', padding='same')(conv3_2)\n",
        "    #concat3 = Concatenate(axis=-1)([conv3_1, conv3_2, conv3_3])\n",
        "    # #pool3 = MaxPooling1D(pool_size=2)(concat3)\n",
        "\n",
        "    # Flatten\n",
        "    flatten = Flatten()(conv3_3)\n",
        "\n",
        "    # Dense layers\n",
        "    dense1 = Dense(256, activation='relu')(flatten)\n",
        "    dense2 = Dense(128, activation='relu')(dense1)\n",
        "\n",
        "    # Output layer\n",
        "    output = Dense(1, activation='linear')(dense2)\n",
        "\n",
        "    # Create model\n",
        "    model = Model(inputs=inputs, outputs=output)\n",
        "\n",
        "    return model"
      ],
      "metadata": {
        "id": "Covs39D1FGh6"
      },
      "execution_count": null,
      "outputs": []
    },
    {
      "cell_type": "code",
      "source": [
        "def custom_loss(y_true, y_pred):\n",
        "    mae_loss = tf.keras.losses.mean_absolute_error(y_true, y_pred)\n",
        "    mse_loss = tf.keras.losses.mean_squared_error(y_true, y_pred)\n",
        "    total_loss = mae_loss + mse_loss\n",
        "    return total_loss"
      ],
      "metadata": {
        "id": "j4ENKCLpFGlS"
      },
      "execution_count": null,
      "outputs": []
    },
    {
      "cell_type": "code",
      "source": [
        "from tensorflow.keras.optimizers import Adam\n",
        "from tensorflow.keras.callbacks import ModelCheckpoint\n",
        "\n",
        "reg_model = unet_inception(input_shape=(17, 1))\n",
        "\n",
        "learning_rate = 0.0001\n",
        "optimizer = Adam(learning_rate=learning_rate)"
      ],
      "metadata": {
        "id": "6SeXW_OcFGpO"
      },
      "execution_count": null,
      "outputs": []
    },
    {
      "cell_type": "code",
      "source": [
        "reg_model.compile(loss=custom_loss, optimizer= optimizer, metrics=['mae', 'mse'])"
      ],
      "metadata": {
        "id": "TT5hlKThFGrT"
      },
      "execution_count": null,
      "outputs": []
    },
    {
      "cell_type": "code",
      "source": [
        "checkpoint = ModelCheckpoint('best_model.h5', monitor='val_loss', save_best_only=True, mode='min')"
      ],
      "metadata": {
        "id": "lSvrMRvmFGub"
      },
      "execution_count": null,
      "outputs": []
    },
    {
      "cell_type": "code",
      "source": [
        "reg_model.fit(X_train, y_train, epochs=50, batch_size=32, validation_data=(X_val, y_val), callbacks=[checkpoint])"
      ],
      "metadata": {
        "id": "Qypb03W7FGxT"
      },
      "execution_count": null,
      "outputs": []
    },
    {
      "cell_type": "code",
      "source": [
        "import tensorflow as tf\n",
        "from tensorflow.keras.models import load_model\n",
        "\n",
        "# Load the best model\n",
        "custom_objects = {'custom_loss': custom_loss}\n",
        "with tf.keras.utils.custom_object_scope(custom_objects):\n",
        "    # Load the best model\n",
        "    best_model = load_model('best_model.h5')\n",
        "\n",
        "# Evaluate on test data\n",
        "test_results = best_model.evaluate(X_test, y_test)\n",
        "\n",
        "# Extract MAE and MSE from the test results\n",
        "test_mae = test_results[1]\n",
        "test_mse = test_results[2]\n",
        "\n",
        "print(\"Test MAE:\", test_mae)\n",
        "print(\"Test MSE:\", test_mse)\n"
      ],
      "metadata": {
        "id": "1Q0kMexRFG1B"
      },
      "execution_count": null,
      "outputs": []
    },
    {
      "cell_type": "code",
      "source": [],
      "metadata": {
        "id": "B53QQwMVFG5E"
      },
      "execution_count": null,
      "outputs": []
    },
    {
      "cell_type": "code",
      "source": [],
      "metadata": {
        "id": "eC8vlcy-FG7X"
      },
      "execution_count": null,
      "outputs": []
    },
    {
      "cell_type": "code",
      "source": [],
      "metadata": {
        "id": "-cWklXa6E4oR"
      },
      "execution_count": null,
      "outputs": []
    },
    {
      "cell_type": "code",
      "source": [],
      "metadata": {
        "id": "0BTDWDqCE4rf"
      },
      "execution_count": null,
      "outputs": []
    },
    {
      "cell_type": "code",
      "source": [],
      "metadata": {
        "id": "2ob9dPxpE4ut"
      },
      "execution_count": null,
      "outputs": []
    }
  ]
}